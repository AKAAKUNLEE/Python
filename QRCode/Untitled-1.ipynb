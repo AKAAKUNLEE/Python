{
 "cells": [
  {
   "cell_type": "code",
   "execution_count": null,
   "metadata": {},
   "outputs": [],
   "source": [
    "import os\n",
    "import subprocess\n",
    "import sys\n",
    "\n",
    "def check_python_version():\n",
    "    \"\"\"检查当前Python版本是否为3.12\"\"\"\n",
    "    version = sys.version_info\n",
    "    if version.major != 3 or version.minor != 12:\n",
    "        print(\"当前Python版本不是3.12，请确保已安装Python 3.12。\")\n",
    "        return False\n",
    "    return True\n",
    "\n",
    "def install_virtualenv():\n",
    "    \"\"\"安装virtualenv\"\"\"\n",
    "    try:\n",
    "        subprocess.check_call([sys.executable, \"-m\", \"pip\", \"install\", \"virtualenv\"])\n",
    "        print(\"virtualenv安装成功。\")\n",
    "    except subprocess.CalledProcessError as e:\n",
    "        print(f\"安装virtualenv失败: {e}\")\n",
    "        sys.exit(1)\n",
    "\n",
    "def create_venv(env_name):\n",
    "    \"\"\"创建虚拟环境\"\"\"\n",
    "    try:\n",
    "        subprocess.check_call([sys.executable, \"-m\", \"virtualenv\", env_name])\n",
    "        print(f\"虚拟环境 {env_name} 创建成功。\")\n",
    "    except subprocess.CalledProcessError as e:\n",
    "        print(f\"创建虚拟环境失败: {e}\")\n",
    "        sys.exit(1)\n",
    "\n",
    "def main():\n",
    "    env_name = input(\"请输入虚拟环境的名称: \")\n",
    "    \n",
    "    if not check_python_version():\n",
    "        print(\"请先安装Python 3.12。\")\n",
    "        sys.exit(1)\n",
    "    \n",
    "    try:\n",
    "        subprocess.check_call([sys.executable, \"-m\", \"virtualenv\", \"--version\"])\n",
    "    except subprocess.CalledProcessError:\n",
    "        print(\"未检测到virtualenv，正在安装...\")\n",
    "        install_virtualenv()\n",
    "    \n",
    "    create_venv(env_name)\n",
    "\n",
    "if __name__ == \"__main__\":\n",
    "    main()"
   ]
  }
 ],
 "metadata": {
  "language_info": {
   "name": "python"
  }
 },
 "nbformat": 4,
 "nbformat_minor": 2
}
